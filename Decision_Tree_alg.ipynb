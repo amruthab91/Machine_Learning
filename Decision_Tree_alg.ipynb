{
  "nbformat": 4,
  "nbformat_minor": 0,
  "metadata": {
    "colab": {
      "provenance": [],
      "authorship_tag": "ABX9TyNDYkX0ueqwqBUmWsuS2wrV"
    },
    "kernelspec": {
      "name": "python3",
      "display_name": "Python 3"
    },
    "language_info": {
      "name": "python"
    }
  },
  "cells": [
    {
      "cell_type": "markdown",
      "source": [
        "**Decision Tree Algorithm**"
      ],
      "metadata": {
        "id": "yXsK2ZS-o9hm"
      }
    },
    {
      "cell_type": "code",
      "execution_count": null,
      "metadata": {
        "id": "kSccdNEvWjoh"
      },
      "outputs": [],
      "source": [
        "import pandas as pd\n",
        "from  sklearn.tree import DecisionTreeClassifier\n",
        "from sklearn.model_selection import train_test_split\n",
        "from sklearn import metrics\n",
        "from sklearn.feature_selection import RFE"
      ]
    },
    {
      "cell_type": "code",
      "source": [
        "#read column names\n",
        "myColumns = ['pregnant','glucose','bp','skin','insulin','bmi','pedigree','age','label']\n",
        "#load dataset\n",
        "data = pd.read_csv(\"/content/diabetes.csv\", header = None, names = myColumns)\n",
        "print('file reading is done')"
      ],
      "metadata": {
        "colab": {
          "base_uri": "https://localhost:8080/"
        },
        "id": "tEVgFw-jY4-7",
        "outputId": "addf7fce-635e-42ff-92a3-26662c53409c"
      },
      "execution_count": null,
      "outputs": [
        {
          "output_type": "stream",
          "name": "stdout",
          "text": [
            "file reading is done\n"
          ]
        }
      ]
    },
    {
      "cell_type": "code",
      "source": [
        "data.head()"
      ],
      "metadata": {
        "colab": {
          "base_uri": "https://localhost:8080/",
          "height": 206
        },
        "id": "fDec9Q2vZBTp",
        "outputId": "f22cebf5-e938-4371-da50-957d034fddbf"
      },
      "execution_count": null,
      "outputs": [
        {
          "output_type": "execute_result",
          "data": {
            "text/plain": [
              "      pregnant  glucose             bp           skin  insulin   bmi  \\\n",
              "0  Pregnancies  Glucose  BloodPressure  SkinThickness  Insulin   BMI   \n",
              "1            6      148             72             35        0  33.6   \n",
              "2            1       85             66             29        0  26.6   \n",
              "3            8      183             64              0        0  23.3   \n",
              "4            1       89             66             23       94  28.1   \n",
              "\n",
              "                   pedigree  age    label  \n",
              "0  DiabetesPedigreeFunction  Age  Outcome  \n",
              "1                     0.627   50        1  \n",
              "2                     0.351   31        0  \n",
              "3                     0.672   32        1  \n",
              "4                     0.167   21        0  "
            ],
            "text/html": [
              "\n",
              "  <div id=\"df-1ab2cff9-0d51-410f-b7f5-e874de21e6de\" class=\"colab-df-container\">\n",
              "    <div>\n",
              "<style scoped>\n",
              "    .dataframe tbody tr th:only-of-type {\n",
              "        vertical-align: middle;\n",
              "    }\n",
              "\n",
              "    .dataframe tbody tr th {\n",
              "        vertical-align: top;\n",
              "    }\n",
              "\n",
              "    .dataframe thead th {\n",
              "        text-align: right;\n",
              "    }\n",
              "</style>\n",
              "<table border=\"1\" class=\"dataframe\">\n",
              "  <thead>\n",
              "    <tr style=\"text-align: right;\">\n",
              "      <th></th>\n",
              "      <th>pregnant</th>\n",
              "      <th>glucose</th>\n",
              "      <th>bp</th>\n",
              "      <th>skin</th>\n",
              "      <th>insulin</th>\n",
              "      <th>bmi</th>\n",
              "      <th>pedigree</th>\n",
              "      <th>age</th>\n",
              "      <th>label</th>\n",
              "    </tr>\n",
              "  </thead>\n",
              "  <tbody>\n",
              "    <tr>\n",
              "      <th>0</th>\n",
              "      <td>Pregnancies</td>\n",
              "      <td>Glucose</td>\n",
              "      <td>BloodPressure</td>\n",
              "      <td>SkinThickness</td>\n",
              "      <td>Insulin</td>\n",
              "      <td>BMI</td>\n",
              "      <td>DiabetesPedigreeFunction</td>\n",
              "      <td>Age</td>\n",
              "      <td>Outcome</td>\n",
              "    </tr>\n",
              "    <tr>\n",
              "      <th>1</th>\n",
              "      <td>6</td>\n",
              "      <td>148</td>\n",
              "      <td>72</td>\n",
              "      <td>35</td>\n",
              "      <td>0</td>\n",
              "      <td>33.6</td>\n",
              "      <td>0.627</td>\n",
              "      <td>50</td>\n",
              "      <td>1</td>\n",
              "    </tr>\n",
              "    <tr>\n",
              "      <th>2</th>\n",
              "      <td>1</td>\n",
              "      <td>85</td>\n",
              "      <td>66</td>\n",
              "      <td>29</td>\n",
              "      <td>0</td>\n",
              "      <td>26.6</td>\n",
              "      <td>0.351</td>\n",
              "      <td>31</td>\n",
              "      <td>0</td>\n",
              "    </tr>\n",
              "    <tr>\n",
              "      <th>3</th>\n",
              "      <td>8</td>\n",
              "      <td>183</td>\n",
              "      <td>64</td>\n",
              "      <td>0</td>\n",
              "      <td>0</td>\n",
              "      <td>23.3</td>\n",
              "      <td>0.672</td>\n",
              "      <td>32</td>\n",
              "      <td>1</td>\n",
              "    </tr>\n",
              "    <tr>\n",
              "      <th>4</th>\n",
              "      <td>1</td>\n",
              "      <td>89</td>\n",
              "      <td>66</td>\n",
              "      <td>23</td>\n",
              "      <td>94</td>\n",
              "      <td>28.1</td>\n",
              "      <td>0.167</td>\n",
              "      <td>21</td>\n",
              "      <td>0</td>\n",
              "    </tr>\n",
              "  </tbody>\n",
              "</table>\n",
              "</div>\n",
              "    <div class=\"colab-df-buttons\">\n",
              "\n",
              "  <div class=\"colab-df-container\">\n",
              "    <button class=\"colab-df-convert\" onclick=\"convertToInteractive('df-1ab2cff9-0d51-410f-b7f5-e874de21e6de')\"\n",
              "            title=\"Convert this dataframe to an interactive table.\"\n",
              "            style=\"display:none;\">\n",
              "\n",
              "  <svg xmlns=\"http://www.w3.org/2000/svg\" height=\"24px\" viewBox=\"0 -960 960 960\">\n",
              "    <path d=\"M120-120v-720h720v720H120Zm60-500h600v-160H180v160Zm220 220h160v-160H400v160Zm0 220h160v-160H400v160ZM180-400h160v-160H180v160Zm440 0h160v-160H620v160ZM180-180h160v-160H180v160Zm440 0h160v-160H620v160Z\"/>\n",
              "  </svg>\n",
              "    </button>\n",
              "\n",
              "  <style>\n",
              "    .colab-df-container {\n",
              "      display:flex;\n",
              "      gap: 12px;\n",
              "    }\n",
              "\n",
              "    .colab-df-convert {\n",
              "      background-color: #E8F0FE;\n",
              "      border: none;\n",
              "      border-radius: 50%;\n",
              "      cursor: pointer;\n",
              "      display: none;\n",
              "      fill: #1967D2;\n",
              "      height: 32px;\n",
              "      padding: 0 0 0 0;\n",
              "      width: 32px;\n",
              "    }\n",
              "\n",
              "    .colab-df-convert:hover {\n",
              "      background-color: #E2EBFA;\n",
              "      box-shadow: 0px 1px 2px rgba(60, 64, 67, 0.3), 0px 1px 3px 1px rgba(60, 64, 67, 0.15);\n",
              "      fill: #174EA6;\n",
              "    }\n",
              "\n",
              "    .colab-df-buttons div {\n",
              "      margin-bottom: 4px;\n",
              "    }\n",
              "\n",
              "    [theme=dark] .colab-df-convert {\n",
              "      background-color: #3B4455;\n",
              "      fill: #D2E3FC;\n",
              "    }\n",
              "\n",
              "    [theme=dark] .colab-df-convert:hover {\n",
              "      background-color: #434B5C;\n",
              "      box-shadow: 0px 1px 3px 1px rgba(0, 0, 0, 0.15);\n",
              "      filter: drop-shadow(0px 1px 2px rgba(0, 0, 0, 0.3));\n",
              "      fill: #FFFFFF;\n",
              "    }\n",
              "  </style>\n",
              "\n",
              "    <script>\n",
              "      const buttonEl =\n",
              "        document.querySelector('#df-1ab2cff9-0d51-410f-b7f5-e874de21e6de button.colab-df-convert');\n",
              "      buttonEl.style.display =\n",
              "        google.colab.kernel.accessAllowed ? 'block' : 'none';\n",
              "\n",
              "      async function convertToInteractive(key) {\n",
              "        const element = document.querySelector('#df-1ab2cff9-0d51-410f-b7f5-e874de21e6de');\n",
              "        const dataTable =\n",
              "          await google.colab.kernel.invokeFunction('convertToInteractive',\n",
              "                                                    [key], {});\n",
              "        if (!dataTable) return;\n",
              "\n",
              "        const docLinkHtml = 'Like what you see? Visit the ' +\n",
              "          '<a target=\"_blank\" href=https://colab.research.google.com/notebooks/data_table.ipynb>data table notebook</a>'\n",
              "          + ' to learn more about interactive tables.';\n",
              "        element.innerHTML = '';\n",
              "        dataTable['output_type'] = 'display_data';\n",
              "        await google.colab.output.renderOutput(dataTable, element);\n",
              "        const docLink = document.createElement('div');\n",
              "        docLink.innerHTML = docLinkHtml;\n",
              "        element.appendChild(docLink);\n",
              "      }\n",
              "    </script>\n",
              "  </div>\n",
              "\n",
              "\n",
              "<div id=\"df-75b8d85e-bd0c-4021-b6ba-e03a583cdce5\">\n",
              "  <button class=\"colab-df-quickchart\" onclick=\"quickchart('df-75b8d85e-bd0c-4021-b6ba-e03a583cdce5')\"\n",
              "            title=\"Suggest charts\"\n",
              "            style=\"display:none;\">\n",
              "\n",
              "<svg xmlns=\"http://www.w3.org/2000/svg\" height=\"24px\"viewBox=\"0 0 24 24\"\n",
              "     width=\"24px\">\n",
              "    <g>\n",
              "        <path d=\"M19 3H5c-1.1 0-2 .9-2 2v14c0 1.1.9 2 2 2h14c1.1 0 2-.9 2-2V5c0-1.1-.9-2-2-2zM9 17H7v-7h2v7zm4 0h-2V7h2v10zm4 0h-2v-4h2v4z\"/>\n",
              "    </g>\n",
              "</svg>\n",
              "  </button>\n",
              "\n",
              "<style>\n",
              "  .colab-df-quickchart {\n",
              "      --bg-color: #E8F0FE;\n",
              "      --fill-color: #1967D2;\n",
              "      --hover-bg-color: #E2EBFA;\n",
              "      --hover-fill-color: #174EA6;\n",
              "      --disabled-fill-color: #AAA;\n",
              "      --disabled-bg-color: #DDD;\n",
              "  }\n",
              "\n",
              "  [theme=dark] .colab-df-quickchart {\n",
              "      --bg-color: #3B4455;\n",
              "      --fill-color: #D2E3FC;\n",
              "      --hover-bg-color: #434B5C;\n",
              "      --hover-fill-color: #FFFFFF;\n",
              "      --disabled-bg-color: #3B4455;\n",
              "      --disabled-fill-color: #666;\n",
              "  }\n",
              "\n",
              "  .colab-df-quickchart {\n",
              "    background-color: var(--bg-color);\n",
              "    border: none;\n",
              "    border-radius: 50%;\n",
              "    cursor: pointer;\n",
              "    display: none;\n",
              "    fill: var(--fill-color);\n",
              "    height: 32px;\n",
              "    padding: 0;\n",
              "    width: 32px;\n",
              "  }\n",
              "\n",
              "  .colab-df-quickchart:hover {\n",
              "    background-color: var(--hover-bg-color);\n",
              "    box-shadow: 0 1px 2px rgba(60, 64, 67, 0.3), 0 1px 3px 1px rgba(60, 64, 67, 0.15);\n",
              "    fill: var(--button-hover-fill-color);\n",
              "  }\n",
              "\n",
              "  .colab-df-quickchart-complete:disabled,\n",
              "  .colab-df-quickchart-complete:disabled:hover {\n",
              "    background-color: var(--disabled-bg-color);\n",
              "    fill: var(--disabled-fill-color);\n",
              "    box-shadow: none;\n",
              "  }\n",
              "\n",
              "  .colab-df-spinner {\n",
              "    border: 2px solid var(--fill-color);\n",
              "    border-color: transparent;\n",
              "    border-bottom-color: var(--fill-color);\n",
              "    animation:\n",
              "      spin 1s steps(1) infinite;\n",
              "  }\n",
              "\n",
              "  @keyframes spin {\n",
              "    0% {\n",
              "      border-color: transparent;\n",
              "      border-bottom-color: var(--fill-color);\n",
              "      border-left-color: var(--fill-color);\n",
              "    }\n",
              "    20% {\n",
              "      border-color: transparent;\n",
              "      border-left-color: var(--fill-color);\n",
              "      border-top-color: var(--fill-color);\n",
              "    }\n",
              "    30% {\n",
              "      border-color: transparent;\n",
              "      border-left-color: var(--fill-color);\n",
              "      border-top-color: var(--fill-color);\n",
              "      border-right-color: var(--fill-color);\n",
              "    }\n",
              "    40% {\n",
              "      border-color: transparent;\n",
              "      border-right-color: var(--fill-color);\n",
              "      border-top-color: var(--fill-color);\n",
              "    }\n",
              "    60% {\n",
              "      border-color: transparent;\n",
              "      border-right-color: var(--fill-color);\n",
              "    }\n",
              "    80% {\n",
              "      border-color: transparent;\n",
              "      border-right-color: var(--fill-color);\n",
              "      border-bottom-color: var(--fill-color);\n",
              "    }\n",
              "    90% {\n",
              "      border-color: transparent;\n",
              "      border-bottom-color: var(--fill-color);\n",
              "    }\n",
              "  }\n",
              "</style>\n",
              "\n",
              "  <script>\n",
              "    async function quickchart(key) {\n",
              "      const quickchartButtonEl =\n",
              "        document.querySelector('#' + key + ' button');\n",
              "      quickchartButtonEl.disabled = true;  // To prevent multiple clicks.\n",
              "      quickchartButtonEl.classList.add('colab-df-spinner');\n",
              "      try {\n",
              "        const charts = await google.colab.kernel.invokeFunction(\n",
              "            'suggestCharts', [key], {});\n",
              "      } catch (error) {\n",
              "        console.error('Error during call to suggestCharts:', error);\n",
              "      }\n",
              "      quickchartButtonEl.classList.remove('colab-df-spinner');\n",
              "      quickchartButtonEl.classList.add('colab-df-quickchart-complete');\n",
              "    }\n",
              "    (() => {\n",
              "      let quickchartButtonEl =\n",
              "        document.querySelector('#df-75b8d85e-bd0c-4021-b6ba-e03a583cdce5 button');\n",
              "      quickchartButtonEl.style.display =\n",
              "        google.colab.kernel.accessAllowed ? 'block' : 'none';\n",
              "    })();\n",
              "  </script>\n",
              "</div>\n",
              "    </div>\n",
              "  </div>\n"
            ]
          },
          "metadata": {},
          "execution_count": 3
        }
      ]
    },
    {
      "cell_type": "code",
      "source": [
        "#split dataset in features and target variables\n",
        "\n",
        "feature_cols =  ['pregnant','insulin','glucose','bp','pedigree']\n",
        "x= data.drop('label',axis=1) #features\n",
        "y= data['label'] #target variable\n",
        "x= x[1:x.size]\n",
        "y= y[1:y.size]\n",
        "print('x=',x)\n",
        "print('y=',y)"
      ],
      "metadata": {
        "colab": {
          "base_uri": "https://localhost:8080/"
        },
        "id": "fZz9JKkbZbJx",
        "outputId": "b9afbbd0-1e20-4cf0-a1fb-2aec520b77a9"
      },
      "execution_count": null,
      "outputs": [
        {
          "output_type": "stream",
          "name": "stdout",
          "text": [
            "x=     pregnant glucose  bp skin insulin   bmi pedigree age\n",
            "1          6     148  72   35       0  33.6    0.627  50\n",
            "2          1      85  66   29       0  26.6    0.351  31\n",
            "3          8     183  64    0       0  23.3    0.672  32\n",
            "4          1      89  66   23      94  28.1    0.167  21\n",
            "5          0     137  40   35     168  43.1    2.288  33\n",
            "..       ...     ...  ..  ...     ...   ...      ...  ..\n",
            "764       10     101  76   48     180  32.9    0.171  63\n",
            "765        2     122  70   27       0  36.8     0.34  27\n",
            "766        5     121  72   23     112  26.2    0.245  30\n",
            "767        1     126  60    0       0  30.1    0.349  47\n",
            "768        1      93  70   31       0  30.4    0.315  23\n",
            "\n",
            "[768 rows x 8 columns]\n",
            "y= 1      1\n",
            "2      0\n",
            "3      1\n",
            "4      0\n",
            "5      1\n",
            "      ..\n",
            "764    0\n",
            "765    0\n",
            "766    0\n",
            "767    1\n",
            "768    0\n",
            "Name: label, Length: 768, dtype: object\n"
          ]
        }
      ]
    },
    {
      "cell_type": "code",
      "source": [
        "#split dataset into training and testing set\n",
        "x_train, x_test, y_train, y_test = train_test_split(x,y, test_size=0.3, random_state=1) #70% training and 30% test set\n",
        "print('x train size = ', x_train.size, 'y_train.size =', y_train.size )\n",
        "print('x test size = ', x_test.size, 'y_test.size =', y_test.size )\n",
        "print(x_test)"
      ],
      "metadata": {
        "colab": {
          "base_uri": "https://localhost:8080/"
        },
        "id": "8vXCgjI1Zfip",
        "outputId": "8e9bab86-ef79-46fd-be38-04f39830c698"
      },
      "execution_count": null,
      "outputs": [
        {
          "output_type": "stream",
          "name": "stdout",
          "text": [
            "x train size =  4296 y_train.size = 537\n",
            "x test size =  1848 y_test.size = 231\n",
            "    pregnant glucose  bp skin insulin   bmi pedigree age\n",
            "286        7     136  74   26     135    26    0.647  51\n",
            "102        1     151  60    0       0  26.1    0.179  22\n",
            "582        6     109  60   27       0    25    0.206  27\n",
            "353        3      61  82   28       0  34.4    0.243  46\n",
            "727        1     116  78   29     180  36.1    0.496  25\n",
            "..       ...     ...  ..  ...     ...   ...      ...  ..\n",
            "242        4      91  70   32      88  33.1    0.446  22\n",
            "600        1     109  38   18     120  23.1    0.407  26\n",
            "651        1      91  54   25     100  25.2    0.234  23\n",
            "12        10     168  74    0       0    38    0.537  34\n",
            "215        9     112  82   32     175  34.2     0.26  36\n",
            "\n",
            "[231 rows x 8 columns]\n"
          ]
        }
      ]
    },
    {
      "cell_type": "code",
      "source": [
        "\"\"\"\n",
        "myDT = DecisionTreeClassifier()\n",
        "\n",
        "myDT = myDT.fit(x_train,y_train)\n",
        "\"\"\""
      ],
      "metadata": {
        "id": "__mbvGCaZqbx"
      },
      "execution_count": null,
      "outputs": []
    },
    {
      "cell_type": "code",
      "source": [
        "\"\"\"\n",
        "y_pred = myDT.predict(x_test)\n",
        "print('predictions = ', y_pred)\n",
        "\"\"\""
      ],
      "metadata": {
        "colab": {
          "base_uri": "https://localhost:8080/"
        },
        "id": "8o09f4QeZ-xR",
        "outputId": "ad7fa984-621d-4ff6-9e56-4310e77f486c"
      },
      "execution_count": null,
      "outputs": [
        {
          "output_type": "stream",
          "name": "stdout",
          "text": [
            "predictions =  ['0' '0' '0' '1' '0' '0' '0' '0' '0' '0' '1' '1' '0' '1' '0' '0' '0' '1'\n",
            " '0' '0' '1' '0' '1' '1' '0' '1' '0' '1' '0' '0' '0' '1' '0' '1' '1' '1'\n",
            " '0' '0' '0' '1' '0' '0' '0' '0' '0' '0' '1' '1' '0' '0' '0' '1' '1' '0'\n",
            " '1' '0' '1' '0' '0' '1' '1' '0' '0' '0' '1' '0' '0' '1' '1' '1' '1' '1'\n",
            " '0' '0' '1' '0' '1' '0' '0' '1' '1' '0' '0' '0' '0' '1' '0' '1' '1' '0'\n",
            " '0' '0' '1' '0' '1' '0' '1' '0' '1' '0' '0' '1' '0' '1' '0' '0' '0' '0'\n",
            " '0' '0' '1' '0' '0' '0' '0' '0' '0' '0' '0' '0' '0' '1' '1' '0' '0' '0'\n",
            " '0' '0' '0' '0' '1' '0' '0' '0' '0' '0' '0' '1' '0' '0' '0' '0' '0' '1'\n",
            " '0' '0' '1' '0' '0' '0' '1' '1' '0' '0' '1' '0' '0' '0' '0' '0' '1' '0'\n",
            " '0' '0' '1' '0' '0' '1' '1' '1' '1' '1' '0' '0' '1' '0' '1' '0' '0' '0'\n",
            " '1' '1' '0' '1' '0' '0' '0' '1' '0' '0' '0' '0' '0' '0' '1' '0' '0' '0'\n",
            " '0' '1' '1' '1' '0' '0' '1' '1' '0' '0' '0' '1' '0' '0' '0' '1' '1' '1'\n",
            " '0' '0' '0' '0' '0' '0' '0' '0' '0' '0' '0' '0' '0' '1' '0']\n"
          ]
        }
      ]
    },
    {
      "cell_type": "code",
      "source": [
        "#print(\"Accuracy of model is =\", metrics.accuracy_score(y_test,y_pred))"
      ],
      "metadata": {
        "colab": {
          "base_uri": "https://localhost:8080/"
        },
        "id": "Ya-RftaTaNpJ",
        "outputId": "03a5a1ce-da8c-4e51-a803-dfb91b5e16b6"
      },
      "execution_count": null,
      "outputs": [
        {
          "output_type": "stream",
          "name": "stdout",
          "text": [
            "Accuracy of model is = 0.70995670995671\n"
          ]
        }
      ]
    },
    {
      "cell_type": "code",
      "source": [
        "\"\"\"\n",
        "myDT = DecisionTreeClassifier(criterion=\"entropy\", max_depth=3)\n",
        "\n",
        "feature_cols = ['pregnant','glucose','bp','skin','insulin','bmi','pedigree','age']\n",
        "X = data[feature_cols]\n",
        "Y = data.label\n",
        "X= X[1:X.size]\n",
        "Y = Y[1:Y.size]\n",
        "\n",
        "print('X = ', X)\n",
        "print('Y =', Y)\n",
        "\"\"\""
      ],
      "metadata": {
        "colab": {
          "base_uri": "https://localhost:8080/"
        },
        "id": "HUcWNZa_euIM",
        "outputId": "067634bd-165f-49e6-91c1-f2090099137e"
      },
      "execution_count": null,
      "outputs": [
        {
          "output_type": "stream",
          "name": "stdout",
          "text": [
            "X =      pregnant glucose  bp skin insulin   bmi pedigree age\n",
            "1          6     148  72   35       0  33.6    0.627  50\n",
            "2          1      85  66   29       0  26.6    0.351  31\n",
            "3          8     183  64    0       0  23.3    0.672  32\n",
            "4          1      89  66   23      94  28.1    0.167  21\n",
            "5          0     137  40   35     168  43.1    2.288  33\n",
            "..       ...     ...  ..  ...     ...   ...      ...  ..\n",
            "764       10     101  76   48     180  32.9    0.171  63\n",
            "765        2     122  70   27       0  36.8     0.34  27\n",
            "766        5     121  72   23     112  26.2    0.245  30\n",
            "767        1     126  60    0       0  30.1    0.349  47\n",
            "768        1      93  70   31       0  30.4    0.315  23\n",
            "\n",
            "[768 rows x 8 columns]\n",
            "Y = 1      1\n",
            "2      0\n",
            "3      1\n",
            "4      0\n",
            "5      1\n",
            "      ..\n",
            "764    0\n",
            "765    0\n",
            "766    0\n",
            "767    1\n",
            "768    0\n",
            "Name: label, Length: 768, dtype: object\n"
          ]
        }
      ]
    },
    {
      "cell_type": "code",
      "source": [
        "\n",
        "#FEATURE SELECTION ALGORITHM\n",
        "#create decision tree classifier\n",
        "max_depths = [1,2,3,4,5,6]\n",
        "feature_cols = ['pregnant','glucose','bp','skin','insulin','bmi','pedigree','age']\n",
        "accuracy= []\n",
        "ind =[]\n",
        "for i in max_depths:\n",
        "  myDT = DecisionTreeClassifier(criterion =\"entropy\", max_depth=i)\n",
        "  rfe= RFE(myDT,n_features_to_select=6)\n",
        "  x_train_rfe = rfe.fit_transform(x_train,y_train)\n",
        "  x_test_rfe = rfe.transform(x_test)\n",
        "\n",
        "  #train decision tree model\n",
        "  myDT.fit(x_train_rfe,y_train)\n",
        "\n",
        "  #print response for test dataset\n",
        "  y_pred = myDT.predict(x_test_rfe)\n",
        "\n",
        "  #print('Predictions = ', y_pred)\n",
        "  #model accuracy\n",
        "  print(\"Accuracy of model is = \", metrics.accuracy_score(y_test,y_pred))\n",
        "  accuracy.append(metrics.accuracy_score(y_test,y_pred))\n",
        "  ind.append(i)\n"
      ],
      "metadata": {
        "colab": {
          "base_uri": "https://localhost:8080/"
        },
        "id": "3lpuWXGTgauA",
        "outputId": "6f78aa74-533d-4d0d-c9c7-6cb2639d2c98"
      },
      "execution_count": null,
      "outputs": [
        {
          "output_type": "stream",
          "name": "stdout",
          "text": [
            "Accuracy of model is =  0.7619047619047619\n",
            "Accuracy of model is =  0.7705627705627706\n",
            "Accuracy of model is =  0.7705627705627706\n",
            "Accuracy of model is =  0.7922077922077922\n",
            "Accuracy of model is =  0.7748917748917749\n",
            "Accuracy of model is =  0.7662337662337663\n"
          ]
        }
      ]
    },
    {
      "cell_type": "code",
      "source": [
        "import matplotlib.pyplot as plt\n",
        "plt.bar(ind,accuracy)"
      ],
      "metadata": {
        "colab": {
          "base_uri": "https://localhost:8080/",
          "height": 447
        },
        "id": "YouOIeDcnWZb",
        "outputId": "5d793d44-bc2a-4bb2-e337-43cc1de6611b"
      },
      "execution_count": null,
      "outputs": [
        {
          "output_type": "execute_result",
          "data": {
            "text/plain": [
              "<BarContainer object of 6 artists>"
            ]
          },
          "metadata": {},
          "execution_count": 30
        },
        {
          "output_type": "display_data",
          "data": {
            "text/plain": [
              "<Figure size 640x480 with 1 Axes>"
            ],
            "image/png": "[encoded data removed]"
          },
          "metadata": {}
        }
      ]
    },
    {
      "cell_type": "code",
      "source": [
        "from sklearn.model_selection import train_test_split, GridSearchCV\n",
        "from sklearn.metrics import accuracy_score\n",
        "myDT1 = DecisionTreeClassifier(random_state = 42)\n",
        "param_grid = {\n",
        "    'criterion': ['gini', 'entropy'],\n",
        "    'max_depth': [None, 5, 10, 15, 20],\n",
        "    'min_samples_split': [2, 5, 10],\n",
        "    'min_samples_leaf': [1, 2, 4]\n",
        "}\n",
        "\n",
        "grid_search = GridSearchCV(myDT1, param_grid, cv=5, scoring='accuracy', n_jobs=-1)\n",
        "grid_search.fit(x_train, y_train)\n",
        "\n",
        "best_params = grid_search.best_params_\n",
        "\n",
        "# Train the Decision Tree classifier with the best parameters\n",
        "best_dt_classifier = DecisionTreeClassifier(**best_params, random_state=42)\n",
        "best_dt_classifier.fit(x_train, y_train)\n",
        "\n",
        "# Make predictions on the test set\n",
        "y_pred1 = best_dt_classifier.predict(x_test)\n",
        "\n",
        "# Evaluate accuracy\n",
        "accuracy = accuracy_score(y_test, y_pred1)\n",
        "print(f\"Accuracy: {accuracy:.4f}\")\n",
        "print(\"Best Hyperparameters:\", best_params)\n"
      ],
      "metadata": {
        "colab": {
          "base_uri": "https://localhost:8080/"
        },
        "id": "11RvaQc9lIzW",
        "outputId": "e6d576e6-001d-499a-c2e2-e150a00672be"
      },
      "execution_count": null,
      "outputs": [
        {
          "output_type": "stream",
          "name": "stdout",
          "text": [
            "Accuracy: 0.7879\n",
            "Best Hyperparameters: {'criterion': 'entropy', 'max_depth': 5, 'min_samples_leaf': 2, 'min_samples_split': 10}\n"
          ]
        }
      ]
    },
    {
      "cell_type": "code",
      "source": [
        "%%shell\n",
        "jupyter nbconvert --to html /content/2589545_tutorial2.ipynb"
      ],
      "metadata": {
        "colab": {
          "base_uri": "https://localhost:8080/"
        },
        "id": "UBWbWMbSpeat",
        "outputId": "6c9e7f68-62cf-4b91-f5cc-cf481e0f1995"
      },
      "execution_count": null,
      "outputs": [
        {
          "output_type": "stream",
          "name": "stdout",
          "text": [
            "[NbConvertApp] Converting notebook /content/2589545_tutorial2.ipynb to html\n",
            "[NbConvertApp] Writing 625223 bytes to /content/2589545_tutorial2.html\n"
          ]
        },
        {
          "output_type": "execute_result",
          "data": {
            "text/plain": []
          },
          "metadata": {},
          "execution_count": 35
        }
      ]
    }
  ]
}